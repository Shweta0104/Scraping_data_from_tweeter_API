{
 "cells": [
  {
   "cell_type": "markdown",
   "metadata": {},
   "source": [
    "## Importing Important Libraries"
   ]
  },
  {
   "cell_type": "code",
   "execution_count": 1,
   "metadata": {},
   "outputs": [],
   "source": [
    "import tweepy,re\n",
    "from textblob import TextBlob\n",
    "import matplotlib.pyplot as plt\n",
    "import pandas as pd\n",
    "from nltk.tokenize import word_tokenize\n",
    "from nltk.stem import WordNetLemmatizer\n",
    "from nltk.corpus import stopwords"
   ]
  },
  {
   "cell_type": "markdown",
   "metadata": {},
   "source": [
    "## Authentication from Tweeter API"
   ]
  },
  {
   "cell_type": "code",
   "execution_count": 2,
   "metadata": {},
   "outputs": [],
   "source": [
    "API_Key= 'CfO3IXaHuvtzOAIxIPBA4TpMS'\n",
    "API_Secret_Key ='auQ0vHPZwUj7jqaKEoiSyObEArqvtXKfOX9uX6IZaB2UwtSm8H'\n",
    "Access_Token ='1396163282520600576-ArrbTFVjC8eres9NYJqokPvTo1Q5nO'\n",
    "Access_Token_Secret ='ASKryk99corDEsJXZpGgJyDdwf1rTcfIESQ1V1wTGE8iy'\n",
    "auth = tweepy.OAuthHandler(API_Key, API_Secret_Key)\n",
    "auth.set_access_token(Access_Token, Access_Token_Secret)\n",
    "#api= tweepy.API(auth)\n",
    "api =tweepy.API(auth,wait_on_rate_limit=True,wait_on_rate_limit_notify=True)\n",
    "#api = tweepy.API(auth, wait_on_rate_limit=True)\n",
    "\n"
   ]
  },
  {
   "cell_type": "markdown",
   "metadata": {},
   "source": [
    "### Take input for searched  them and how many tweets to search"
   ]
  },
  {
   "cell_type": "code",
   "execution_count": 3,
   "metadata": {},
   "outputs": [
    {
     "name": "stdout",
     "output_type": "stream",
     "text": [
      "Enter Keyword/Tag to search About:Narendra Modi\n",
      "Enter how many tweets to search:2000\n"
     ]
    }
   ],
   "source": [
    "searchterm = input(\"Enter Keyword/Tag to search About:\")\n",
    "No_of_Terms = int(input(\"Enter how many tweets to search:\"))\n",
    "\n",
    "tweets =[]\n",
    "tweetText = []\n",
    "\n",
    "#Searching for tweets\n",
    "\n",
    "tweets = tweepy.Cursor(api.search, q= searchterm+\" -filter:retweets\", lang=\"en\").items(No_of_Terms)"
   ]
  },
  {
   "cell_type": "markdown",
   "metadata": {},
   "source": [
    "### Data Scraping from Tweets"
   ]
  },
  {
   "cell_type": "code",
   "execution_count": 4,
   "metadata": {},
   "outputs": [
    {
     "data": {
      "text/html": [
       "<div>\n",
       "<style scoped>\n",
       "    .dataframe tbody tr th:only-of-type {\n",
       "        vertical-align: middle;\n",
       "    }\n",
       "\n",
       "    .dataframe tbody tr th {\n",
       "        vertical-align: top;\n",
       "    }\n",
       "\n",
       "    .dataframe thead th {\n",
       "        text-align: right;\n",
       "    }\n",
       "</style>\n",
       "<table border=\"1\" class=\"dataframe\">\n",
       "  <thead>\n",
       "    <tr style=\"text-align: right;\">\n",
       "      <th></th>\n",
       "      <th>0</th>\n",
       "    </tr>\n",
       "  </thead>\n",
       "  <tbody>\n",
       "    <tr>\n",
       "      <th>0</th>\n",
       "      <td>#वादा_निभाओ_शिक्षामित्र_बचाओ\\n#वादा_निभाओ_शिक्...</td>\n",
       "    </tr>\n",
       "    <tr>\n",
       "      <th>1</th>\n",
       "      <td>I received Birthday Greetings From Hon’ble Pri...</td>\n",
       "    </tr>\n",
       "    <tr>\n",
       "      <th>2</th>\n",
       "      <td>Prime Minister Narendra Modi made a strong ple...</td>\n",
       "    </tr>\n",
       "    <tr>\n",
       "      <th>3</th>\n",
       "      <td>The worst leaders in the past 20 years would b...</td>\n",
       "    </tr>\n",
       "    <tr>\n",
       "      <th>4</th>\n",
       "      <td>The Prime Minister of India, who proud himself...</td>\n",
       "    </tr>\n",
       "    <tr>\n",
       "      <th>...</th>\n",
       "      <td>...</td>\n",
       "    </tr>\n",
       "    <tr>\n",
       "      <th>1995</th>\n",
       "      <td>For the first time since Narendra Modi and Ami...</td>\n",
       "    </tr>\n",
       "    <tr>\n",
       "      <th>1996</th>\n",
       "      <td>PM condoles loss of lives due to collapse of a...</td>\n",
       "    </tr>\n",
       "    <tr>\n",
       "      <th>1997</th>\n",
       "      <td>CM Yogi Adityanath meets PM Narendra Modi amid...</td>\n",
       "    </tr>\n",
       "    <tr>\n",
       "      <th>1998</th>\n",
       "      <td>Recently, however, former Union Minister and c...</td>\n",
       "    </tr>\n",
       "    <tr>\n",
       "      <th>1999</th>\n",
       "      <td>Under Stalin Tamil Nadu finds its voice, but w...</td>\n",
       "    </tr>\n",
       "  </tbody>\n",
       "</table>\n",
       "<p>2000 rows × 1 columns</p>\n",
       "</div>"
      ],
      "text/plain": [
       "                                                      0\n",
       "0     #वादा_निभाओ_शिक्षामित्र_बचाओ\\n#वादा_निभाओ_शिक्...\n",
       "1     I received Birthday Greetings From Hon’ble Pri...\n",
       "2     Prime Minister Narendra Modi made a strong ple...\n",
       "3     The worst leaders in the past 20 years would b...\n",
       "4     The Prime Minister of India, who proud himself...\n",
       "...                                                 ...\n",
       "1995  For the first time since Narendra Modi and Ami...\n",
       "1996  PM condoles loss of lives due to collapse of a...\n",
       "1997  CM Yogi Adityanath meets PM Narendra Modi amid...\n",
       "1998  Recently, however, former Union Minister and c...\n",
       "1999  Under Stalin Tamil Nadu finds its voice, but w...\n",
       "\n",
       "[2000 rows x 1 columns]"
      ]
     },
     "execution_count": 4,
     "metadata": {},
     "output_type": "execute_result"
    }
   ],
   "source": [
    "tweet_list = [tweet.text for tweet in tweets]\n",
    "tweet_df =pd.DataFrame(tweet_list)\n",
    "tweet_df"
   ]
  },
  {
   "cell_type": "markdown",
   "metadata": {},
   "source": [
    "### Data Cleaning"
   ]
  },
  {
   "cell_type": "code",
   "execution_count": 5,
   "metadata": {},
   "outputs": [],
   "source": [
    "def clean_data(text):\n",
    "    return ' '.join(re.sub(\"(@[a-zA-Z0-9]+)|([^0-9A-Za-z])|(https://[\\w.]+/[\\w]+)\",\" \",text).split())\n",
    "tweet_df['cleaned_data'] = tweet_df[0].apply(clean_data)"
   ]
  },
  {
   "cell_type": "code",
   "execution_count": 6,
   "metadata": {},
   "outputs": [
    {
     "data": {
      "text/html": [
       "<div>\n",
       "<style scoped>\n",
       "    .dataframe tbody tr th:only-of-type {\n",
       "        vertical-align: middle;\n",
       "    }\n",
       "\n",
       "    .dataframe tbody tr th {\n",
       "        vertical-align: top;\n",
       "    }\n",
       "\n",
       "    .dataframe thead th {\n",
       "        text-align: right;\n",
       "    }\n",
       "</style>\n",
       "<table border=\"1\" class=\"dataframe\">\n",
       "  <thead>\n",
       "    <tr style=\"text-align: right;\">\n",
       "      <th></th>\n",
       "      <th>0</th>\n",
       "      <th>cleaned_data</th>\n",
       "    </tr>\n",
       "  </thead>\n",
       "  <tbody>\n",
       "    <tr>\n",
       "      <th>0</th>\n",
       "      <td>#वादा_निभाओ_शिक्षामित्र_बचाओ\\n#वादा_निभाओ_शिक्...</td>\n",
       "      <td>Respected Cm yogi ji and pm Shri Narendra Modi...</td>\n",
       "    </tr>\n",
       "    <tr>\n",
       "      <th>1</th>\n",
       "      <td>I received Birthday Greetings From Hon’ble Pri...</td>\n",
       "      <td>I received Birthday Greetings From Hon ble Pri...</td>\n",
       "    </tr>\n",
       "    <tr>\n",
       "      <th>2</th>\n",
       "      <td>Prime Minister Narendra Modi made a strong ple...</td>\n",
       "      <td>Prime Minister Narendra Modi made a strong ple...</td>\n",
       "    </tr>\n",
       "    <tr>\n",
       "      <th>3</th>\n",
       "      <td>The worst leaders in the past 20 years would b...</td>\n",
       "      <td>The worst leaders in the past 20 years would b...</td>\n",
       "    </tr>\n",
       "    <tr>\n",
       "      <th>4</th>\n",
       "      <td>The Prime Minister of India, who proud himself...</td>\n",
       "      <td>The Prime Minister of India who proud himself ...</td>\n",
       "    </tr>\n",
       "    <tr>\n",
       "      <th>...</th>\n",
       "      <td>...</td>\n",
       "      <td>...</td>\n",
       "    </tr>\n",
       "    <tr>\n",
       "      <th>1995</th>\n",
       "      <td>For the first time since Narendra Modi and Ami...</td>\n",
       "      <td>For the first time since Narendra Modi and Ami...</td>\n",
       "    </tr>\n",
       "    <tr>\n",
       "      <th>1996</th>\n",
       "      <td>PM condoles loss of lives due to collapse of a...</td>\n",
       "      <td>PM condoles loss of lives due to collapse of a...</td>\n",
       "    </tr>\n",
       "    <tr>\n",
       "      <th>1997</th>\n",
       "      <td>CM Yogi Adityanath meets PM Narendra Modi amid...</td>\n",
       "      <td>CM Yogi Adityanath meets PM Narendra Modi amid...</td>\n",
       "    </tr>\n",
       "    <tr>\n",
       "      <th>1998</th>\n",
       "      <td>Recently, however, former Union Minister and c...</td>\n",
       "      <td>Recently however former Union Minister and cur...</td>\n",
       "    </tr>\n",
       "    <tr>\n",
       "      <th>1999</th>\n",
       "      <td>Under Stalin Tamil Nadu finds its voice, but w...</td>\n",
       "      <td>Under Stalin Tamil Nadu finds its voice but wi...</td>\n",
       "    </tr>\n",
       "  </tbody>\n",
       "</table>\n",
       "<p>2000 rows × 2 columns</p>\n",
       "</div>"
      ],
      "text/plain": [
       "                                                      0  \\\n",
       "0     #वादा_निभाओ_शिक्षामित्र_बचाओ\\n#वादा_निभाओ_शिक्...   \n",
       "1     I received Birthday Greetings From Hon’ble Pri...   \n",
       "2     Prime Minister Narendra Modi made a strong ple...   \n",
       "3     The worst leaders in the past 20 years would b...   \n",
       "4     The Prime Minister of India, who proud himself...   \n",
       "...                                                 ...   \n",
       "1995  For the first time since Narendra Modi and Ami...   \n",
       "1996  PM condoles loss of lives due to collapse of a...   \n",
       "1997  CM Yogi Adityanath meets PM Narendra Modi amid...   \n",
       "1998  Recently, however, former Union Minister and c...   \n",
       "1999  Under Stalin Tamil Nadu finds its voice, but w...   \n",
       "\n",
       "                                           cleaned_data  \n",
       "0     Respected Cm yogi ji and pm Shri Narendra Modi...  \n",
       "1     I received Birthday Greetings From Hon ble Pri...  \n",
       "2     Prime Minister Narendra Modi made a strong ple...  \n",
       "3     The worst leaders in the past 20 years would b...  \n",
       "4     The Prime Minister of India who proud himself ...  \n",
       "...                                                 ...  \n",
       "1995  For the first time since Narendra Modi and Ami...  \n",
       "1996  PM condoles loss of lives due to collapse of a...  \n",
       "1997  CM Yogi Adityanath meets PM Narendra Modi amid...  \n",
       "1998  Recently however former Union Minister and cur...  \n",
       "1999  Under Stalin Tamil Nadu finds its voice but wi...  \n",
       "\n",
       "[2000 rows x 2 columns]"
      ]
     },
     "execution_count": 6,
     "metadata": {},
     "output_type": "execute_result"
    }
   ],
   "source": [
    "tweet_df"
   ]
  },
  {
   "cell_type": "code",
   "execution_count": 7,
   "metadata": {},
   "outputs": [],
   "source": [
    "def drop_number(list_text):\n",
    "    list_text_new =[]\n",
    "    for i in list_text:\n",
    "        if not re.search('\\d', i):\n",
    "            list_text_new.append(i)\n",
    "    return ''.join(list_text_new)\n",
    "\n",
    "tweet_df['cleaned_data'] = tweet_df['cleaned_data'].apply(drop_number)"
   ]
  },
  {
   "cell_type": "code",
   "execution_count": 8,
   "metadata": {},
   "outputs": [
    {
     "data": {
      "text/html": [
       "<div>\n",
       "<style scoped>\n",
       "    .dataframe tbody tr th:only-of-type {\n",
       "        vertical-align: middle;\n",
       "    }\n",
       "\n",
       "    .dataframe tbody tr th {\n",
       "        vertical-align: top;\n",
       "    }\n",
       "\n",
       "    .dataframe thead th {\n",
       "        text-align: right;\n",
       "    }\n",
       "</style>\n",
       "<table border=\"1\" class=\"dataframe\">\n",
       "  <thead>\n",
       "    <tr style=\"text-align: right;\">\n",
       "      <th></th>\n",
       "      <th>0</th>\n",
       "      <th>cleaned_data</th>\n",
       "    </tr>\n",
       "  </thead>\n",
       "  <tbody>\n",
       "    <tr>\n",
       "      <th>0</th>\n",
       "      <td>#वादा_निभाओ_शिक्षामित्र_बचाओ\\n#वादा_निभाओ_शिक्...</td>\n",
       "      <td>Respected Cm yogi ji and pm Shri Narendra Modi...</td>\n",
       "    </tr>\n",
       "    <tr>\n",
       "      <th>1</th>\n",
       "      <td>I received Birthday Greetings From Hon’ble Pri...</td>\n",
       "      <td>I received Birthday Greetings From Hon ble Pri...</td>\n",
       "    </tr>\n",
       "    <tr>\n",
       "      <th>2</th>\n",
       "      <td>Prime Minister Narendra Modi made a strong ple...</td>\n",
       "      <td>Prime Minister Narendra Modi made a strong ple...</td>\n",
       "    </tr>\n",
       "    <tr>\n",
       "      <th>3</th>\n",
       "      <td>The worst leaders in the past 20 years would b...</td>\n",
       "      <td>The worst leaders in the past  years would be ...</td>\n",
       "    </tr>\n",
       "    <tr>\n",
       "      <th>4</th>\n",
       "      <td>The Prime Minister of India, who proud himself...</td>\n",
       "      <td>The Prime Minister of India who proud himself ...</td>\n",
       "    </tr>\n",
       "  </tbody>\n",
       "</table>\n",
       "</div>"
      ],
      "text/plain": [
       "                                                   0  \\\n",
       "0  #वादा_निभाओ_शिक्षामित्र_बचाओ\\n#वादा_निभाओ_शिक्...   \n",
       "1  I received Birthday Greetings From Hon’ble Pri...   \n",
       "2  Prime Minister Narendra Modi made a strong ple...   \n",
       "3  The worst leaders in the past 20 years would b...   \n",
       "4  The Prime Minister of India, who proud himself...   \n",
       "\n",
       "                                        cleaned_data  \n",
       "0  Respected Cm yogi ji and pm Shri Narendra Modi...  \n",
       "1  I received Birthday Greetings From Hon ble Pri...  \n",
       "2  Prime Minister Narendra Modi made a strong ple...  \n",
       "3  The worst leaders in the past  years would be ...  \n",
       "4  The Prime Minister of India who proud himself ...  "
      ]
     },
     "execution_count": 8,
     "metadata": {},
     "output_type": "execute_result"
    }
   ],
   "source": [
    "tweet_df.head()"
   ]
  },
  {
   "cell_type": "markdown",
   "metadata": {},
   "source": [
    "### Convert all tweets in lowercase"
   ]
  },
  {
   "cell_type": "code",
   "execution_count": 9,
   "metadata": {},
   "outputs": [],
   "source": [
    "#changing all the words of the review colloumn to lower case\n",
    "def lower_case(text):\n",
    "    text_words = word_tokenize(text)\n",
    "    text_words_lower = [x.lower() for x in  text_words]\n",
    "    return ' '.join(text_words_lower)\n",
    "\n",
    "tweet_df['cleaned_data'] = tweet_df['cleaned_data'].apply(lower_case)"
   ]
  },
  {
   "cell_type": "markdown",
   "metadata": {},
   "source": [
    "### Lemmatisation of Tweets"
   ]
  },
  {
   "cell_type": "code",
   "execution_count": 10,
   "metadata": {},
   "outputs": [],
   "source": [
    "lemmatizer = WordNetLemmatizer()\n",
    "def lemmatise(text):\n",
    "    text_tokens = word_tokenize(text)\n",
    "    text_lemm =[lemmatizer.lemmatize(word) for word in text_tokens]\n",
    "    return ' '.join(text_lemm)\n",
    "\n",
    "tweet_df['cleaned_data']= tweet_df['cleaned_data'].apply(lemmatise)"
   ]
  },
  {
   "cell_type": "code",
   "execution_count": 11,
   "metadata": {},
   "outputs": [
    {
     "data": {
      "text/plain": [
       "array(['respected cm yogi ji and pm shri narendra modi regardin',\n",
       "       'i received birthday greeting from hon ble prime minister shri narendra modi thanks for your valuable',\n",
       "       'prime minister narendra modi made a strong plea for a temporary waiver on covid vaccine patent while attending',\n",
       "       ...,\n",
       "       'cm yogi adityanath meet pm narendra modi amid talk of reshuffle in up govt india news',\n",
       "       'recently however former union minister and current arunachal pradesh mla ninong ering wrote to prime minister nar',\n",
       "       'under stalin tamil nadu find it voice but will the centre listen mkstalin emerges a anti narendra modi focal'],\n",
       "      dtype=object)"
      ]
     },
     "execution_count": 11,
     "metadata": {},
     "output_type": "execute_result"
    }
   ],
   "source": [
    "tweet_df['cleaned_data'].values"
   ]
  },
  {
   "cell_type": "markdown",
   "metadata": {},
   "source": [
    "## Setiment Analyzer Engine"
   ]
  },
  {
   "cell_type": "code",
   "execution_count": 12,
   "metadata": {},
   "outputs": [],
   "source": [
    "def get_polarity(text):\n",
    "    textblob = TextBlob(str(text))\n",
    "    pol = textblob.sentiment.polarity\n",
    "    if(pol==0):\n",
    "        return \"Neutral\"\n",
    "    elif(pol>0 and pol<=0.3):\n",
    "        return \"Weakly Positive\"\n",
    "    elif(pol>0.3 and pol<=0.6):\n",
    "        return \"Positive\"\n",
    "    elif(pol>0.6 and pol<=1):\n",
    "        return \"Strongly Posotive\"\n",
    "    elif(pol>-0.3 and pol<=1):\n",
    "        return \"Weakly Negative\"\n",
    "    elif(pol>-0.6 and pol<=-0.3):\n",
    "        return \"Negative\"\n",
    "    elif(pol>-1 and pol<=-0.6):\n",
    "        return \"Strongly Negative\"\n",
    "tweet_df['polarity'] =tweet_df['cleaned_data'].apply(get_polarity)"
   ]
  },
  {
   "cell_type": "code",
   "execution_count": 13,
   "metadata": {},
   "outputs": [
    {
     "data": {
      "text/plain": [
       "Neutral              1124\n",
       "Weakly Positive       371\n",
       "Positive              215\n",
       "Weakly Negative       148\n",
       "Strongly Posotive      63\n",
       "Negative               53\n",
       "Strongly Negative      25\n",
       "Name: polarity, dtype: int64"
      ]
     },
     "execution_count": 13,
     "metadata": {},
     "output_type": "execute_result"
    }
   ],
   "source": [
    "tweet_df['polarity'].value_counts()"
   ]
  },
  {
   "cell_type": "code",
   "execution_count": 14,
   "metadata": {},
   "outputs": [],
   "source": [
    "neutral=0\n",
    "wpositive =0\n",
    "spositive =0\n",
    "positive=0\n",
    "negative = 0\n",
    "wnegative =0\n",
    "snegative = 0\n",
    "polarity = 0\n",
    "\n",
    "for i in range(0, No_of_Terms):\n",
    "    textblob = TextBlob(str(tweet_df['cleaned_data'][i]))\n",
    "    polarity += textblob.sentiment.polarity\n",
    "    pol = textblob.sentiment.polarity\n",
    "    if (pol==0): #Adding reation of how people are reacting\n",
    "        neutral+=1\n",
    "    elif (pol > 0 and pol<=0.3):\n",
    "        wpositive+= 1\n",
    "    elif (pol > 0.3 and pol<=0.6):\n",
    "        positive += 1\n",
    "    elif (pol >0.6 and pol <= 1):\n",
    "        spositive +=1\n",
    "    elif (pol > -0.3 and pol <=0):\n",
    "        wnegative += 1\n",
    "    elif (pol > -0.6 and pol <=-0.3):\n",
    "        negative += 1\n",
    "    elif (pol >-1 and pol <= -0.6):\n",
    "        snegative+= 1"
   ]
  },
  {
   "cell_type": "markdown",
   "metadata": {},
   "source": [
    "### Average reaction"
   ]
  },
  {
   "cell_type": "code",
   "execution_count": 15,
   "metadata": {},
   "outputs": [
    {
     "data": {
      "text/plain": [
       "0.07442773923992675"
      ]
     },
     "execution_count": 15,
     "metadata": {},
     "output_type": "execute_result"
    }
   ],
   "source": [
    "polarity = polarity/No_of_Terms\n",
    "polarity"
   ]
  },
  {
   "cell_type": "code",
   "execution_count": 16,
   "metadata": {},
   "outputs": [],
   "source": [
    "def percent(part, whole):\n",
    "    temp = 100* float(part)/float(whole)\n",
    "    return format(temp, '.2f')"
   ]
  },
  {
   "cell_type": "code",
   "execution_count": 17,
   "metadata": {},
   "outputs": [],
   "source": [
    "# finding average of how people are react\n",
    "pos = percent(positive, No_of_Terms)\n",
    "wpos = percent(wpositive, No_of_Terms)\n",
    "spos = percent(spositive, No_of_Terms)\n",
    "neg = percent(negative, No_of_Terms)\n",
    "wneg = percent(wnegative, No_of_Terms)\n",
    "sneg = percent(snegative, No_of_Terms)\n",
    "neu = percent(neutral, No_of_Terms)"
   ]
  },
  {
   "cell_type": "code",
   "execution_count": 18,
   "metadata": {},
   "outputs": [
    {
     "name": "stdout",
     "output_type": "stream",
     "text": [
      "How people are reacting on Narendra Modiby analyzing 2000 tweets.\n",
      "\n",
      "---------------------------------------------------\n",
      "\n",
      "General Report:\n",
      "Weakly Positive\n",
      "\n",
      "----------------------------------------------------\n",
      "\n",
      "Detailed Report:\n",
      "10.75% people thought it was positive\n",
      "18.55% people thought it was weakly positive\n",
      "3.15% people thought it was strongly positive\n",
      "2.65 % people thought it was negative\n",
      "7.40 % people thought it was weakly negative\n",
      "1.25 % people thought it was strongly negative\n",
      "56.20 % people thought it was neutral\n"
     ]
    }
   ],
   "source": [
    "# Printing the data\n",
    "print(\"How people are reacting on \" + searchterm+ \"by analyzing \" + str(No_of_Terms) + \" tweets.\")\n",
    "print()\n",
    "print(\"---------------------------------------------------\")\n",
    "print()\n",
    "print(\"General Report:\")\n",
    "\n",
    "if (polarity == 0):\n",
    "    print(\"Neutral\")\n",
    "elif(polarity >0 and polarity<=0.3):\n",
    "    print(\"Weakly Positive\")\n",
    "elif(polarity > 0.3 and polarity<=0.6):\n",
    "    print(\"Positive\")\n",
    "elif(polarity > 0.6 and polarity<=1):\n",
    "    print(\"Strongly Posotive\")\n",
    "elif(polarity > -0.3 and polarity<=0):\n",
    "    print(\"Weakly Negative\")\n",
    "elif(polarity > -0.6 and polarity<= -0.3):\n",
    "    print(\"Negative\")\n",
    "elif(polarity > -1 and polarity<=-0.6):\n",
    "    print(\"Strongly Negative\")\n",
    "    \n",
    "print()\n",
    "print(\"----------------------------------------------------\")\n",
    "print()\n",
    "print(\"Detailed Report:\")\n",
    "print(str(pos) + \"% people thought it was positive\")\n",
    "print(str(wpos)+ \"% people thought it was weakly positive\")\n",
    "print(str(spos)+ \"% people thought it was strongly positive\")\n",
    "print(str(neg)+ \" % people thought it was negative\")\n",
    "print(str(wneg)+ \" % people thought it was weakly negative\")\n",
    "print(str(sneg)+ \" % people thought it was strongly negative\")\n",
    "print(str(neu)+ \" % people thought it was neutral\")"
   ]
  },
  {
   "cell_type": "code",
   "execution_count": 19,
   "metadata": {},
   "outputs": [],
   "source": [
    "sizes = [pos, wpos, spos, neu, neg, wneg, sneg]\n",
    "colors=['yellowgreen', 'lightgreen', 'darkgreen', 'gold', 'red', 'lightsalmon', 'blue']\n",
    "labels =['Positive[' + str(pos) +'%]', 'Weakly Positive[' + str(wpos) +'%]', \n",
    "         'Strongly Positive[' + str(spos) +'%]', 'Neutral[' + str(neu) +'%]', \n",
    "        'Negative[' + str(neg) +'%]', 'Weakly Negative[' + str(wneg) +'%]', 'Strongly Negative[' + str(sneg) +'%]', ]"
   ]
  },
  {
   "cell_type": "markdown",
   "metadata": {},
   "source": [
    "### Data Visualization"
   ]
  },
  {
   "cell_type": "code",
   "execution_count": 20,
   "metadata": {},
   "outputs": [
    {
     "data": {
      "image/png": "[encoded data removed]",
      "text/plain": [
       "<Figure size 432x288 with 1 Axes>"
      ]
     },
     "metadata": {},
     "output_type": "display_data"
    }
   ],
   "source": [
    "plt.pie(sizes, labels=labels, colors =colors)\n",
    "plt.legend(labels, loc='best')\n",
    "plt.title('How people reacting on ' + searchterm + ' by analyzing ' + str(No_of_Terms)+ ' Tweets')\n",
    "plt.axis('equal')\n",
    "plt.tight_layout()\n",
    "plt.show()"
   ]
  },
  {
   "cell_type": "code",
   "execution_count": null,
   "metadata": {},
   "outputs": [],
   "source": []
  }
 ],
 "metadata": {
  "kernelspec": {
   "display_name": "Python 3",
   "language": "python",
   "name": "python3"
  },
  "language_info": {
   "codemirror_mode": {
    "name": "ipython",
    "version": 3
   },
   "file_extension": ".py",
   "mimetype": "text/x-python",
   "name": "python",
   "nbconvert_exporter": "python",
   "pygments_lexer": "ipython3",
   "version": "3.7.3"
  }
 },
 "nbformat": 4,
 "nbformat_minor": 2
}
